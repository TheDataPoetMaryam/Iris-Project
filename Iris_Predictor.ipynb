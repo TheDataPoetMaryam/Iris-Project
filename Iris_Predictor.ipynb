{
 "cells": [
  {
   "cell_type": "code",
   "execution_count": 1,
   "id": "f3a62559-cb72-46d2-98a0-3d94470bf088",
   "metadata": {},
   "outputs": [
    {
     "name": "stderr",
     "output_type": "stream",
     "text": [
      "2025-09-07 18:25:37.747 \n",
      "  \u001b[33m\u001b[1mWarning:\u001b[0m to view this Streamlit app on a browser, run it with the following\n",
      "  command:\n",
      "\n",
      "    streamlit run C:\\Users\\Maryam\\anaconda3\\Lib\\site-packages\\ipykernel_launcher.py [ARGUMENTS]\n"
     ]
    }
   ],
   "source": [
    "import streamlit as st\n",
    "import pandas as pd\n",
    "import numpy as np\n",
    "import joblib\n",
    "import os\n",
    "\n",
    "# For Jupyter/notebook safe path\n",
    "base_dir = os.getcwd()  # current working directory\n",
    "outputs_dir = os.path.join(base_dir, \"Outputs\")\n",
    "model_path = os.path.join(outputs_dir, \"pruned_decision_tree_model.joblib\")\n",
    "\n",
    "# Check if model exists\n",
    "if not os.path.exists(model_path):\n",
    "    st.error(f\"Model not found at {model_path}\")\n",
    "else:\n",
    "    # Load model\n",
    "    model = joblib.load(model_path)\n",
    "\n",
    "    st.title(\"Iris Species Prediction\")\n",
    "    st.write(\"Enter the measurements of the iris flower:\")\n",
    "\n",
    "    # Input fields for features\n",
    "    sepal_length = st.number_input(\"Sepal Length (cm)\", min_value=0.0, max_value=10.0, value=5.1, step=0.1)\n",
    "    sepal_width = st.number_input(\"Sepal Width (cm)\", min_value=0.0, max_value=10.0, value=3.5, step=0.1)\n",
    "    petal_length = st.number_input(\"Petal Length (cm)\", min_value=0.0, max_value=10.0, value=1.4, step=0.1)\n",
    "    petal_width = st.number_input(\"Petal Width (cm)\", min_value=0.0, max_value=10.0, value=0.2, step=0.1)\n",
    "\n",
    "    # Prepare input data\n",
    "    input_data = pd.DataFrame({\n",
    "        \"SepalLengthCm\": [sepal_length],\n",
    "        \"SepalWidthCm\": [sepal_width],\n",
    "        \"PetalLengthCm\": [petal_length],\n",
    "        \"PetalWidthCm\": [petal_width]\n",
    "    })\n",
    "\n",
    "    # Predict button\n",
    "    if st.button(\"Predict\"):\n",
    "        prediction = model.predict(input_data)[0]\n",
    "        proba = model.predict_proba(input_data)[0]\n",
    "        st.success(f\"Predicted species: {prediction}\")\n",
    "        st.write(\"Prediction confidence:\")\n",
    "        for species, prob in zip(model.classes_, proba):\n",
    "            st.write(f\"{species}: {prob:.2f}\")\n",
    "\n",
    "    # Optional: display the feature importance chart\n",
    "    feature_importance_path = os.path.join(outputs_dir, \"feature_importance.png\")\n",
    "    if st.checkbox(\"Show feature importance\"):\n",
    "        if os.path.exists(feature_importance_path):\n",
    "            st.image(feature_importance_path, caption=\"Feature Importance\")\n",
    "        else:\n",
    "            st.warning(\"Feature importance image not found\")"
   ]
  },
  {
   "cell_type": "code",
   "execution_count": null,
   "id": "d5dd4f50-0422-437f-a641-fe551a373e42",
   "metadata": {},
   "outputs": [],
   "source": []
  }
 ],
 "metadata": {
  "kernelspec": {
   "display_name": "Python [conda env:base] *",
   "language": "python",
   "name": "conda-base-py"
  },
  "language_info": {
   "codemirror_mode": {
    "name": "ipython",
    "version": 3
   },
   "file_extension": ".py",
   "mimetype": "text/x-python",
   "name": "python",
   "nbconvert_exporter": "python",
   "pygments_lexer": "ipython3",
   "version": "3.12.7"
  }
 },
 "nbformat": 4,
 "nbformat_minor": 5
}
